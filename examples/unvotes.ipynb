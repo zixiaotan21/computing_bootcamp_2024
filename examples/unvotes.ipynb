{
 "cells": [
  {
   "cell_type": "markdown",
   "id": "235da82c-6a07-4f84-817e-92f5a8bdce76",
   "metadata": {},
   "source": [
    "# UN Votes\n",
    "Author: *Your name here*"
   ]
  },
  {
   "cell_type": "markdown",
   "id": "19f9f9d7-3d04-4db9-ba3e-036ad0490c93",
   "metadata": {},
   "source": [
    "## Introduction\n",
    "\n",
    "How do various countries vote in the United Nations General Assembly, how have their voting patterns evolved throughout time, and how similarly or differently do they view certain issues?\n",
    "Answering these questions (at a high level) is the focus of this analysis.\n",
    "\n",
    "### Libraries\n",
    "\n",
    "We will use the **pandas** and **seaborn** for data wrangling and visualization."
   ]
  },
  {
   "cell_type": "code",
   "execution_count": 1,
   "id": "0fbe30df-37b1-4267-b27e-7755b6010bd3",
   "metadata": {},
   "outputs": [
    {
     "ename": "ModuleNotFoundError",
     "evalue": "No module named 'seaborn'",
     "output_type": "error",
     "traceback": [
      "\u001b[0;31m---------------------------------------------------------------------------\u001b[0m",
      "\u001b[0;31mModuleNotFoundError\u001b[0m                       Traceback (most recent call last)",
      "Cell \u001b[0;32mIn[1], line 6\u001b[0m\n\u001b[1;32m      4\u001b[0m \u001b[38;5;66;03m# Plotting libraries\u001b[39;00m\n\u001b[1;32m      5\u001b[0m \u001b[38;5;28;01mimport\u001b[39;00m \u001b[38;5;21;01mmatplotlib\u001b[39;00m\u001b[38;5;21;01m.\u001b[39;00m\u001b[38;5;21;01mpyplot\u001b[39;00m \u001b[38;5;28;01mas\u001b[39;00m \u001b[38;5;21;01mplt\u001b[39;00m\n\u001b[0;32m----> 6\u001b[0m \u001b[38;5;28;01mimport\u001b[39;00m \u001b[38;5;21;01mseaborn\u001b[39;00m \u001b[38;5;28;01mas\u001b[39;00m \u001b[38;5;21;01msns\u001b[39;00m\n",
      "\u001b[0;31mModuleNotFoundError\u001b[0m: No module named 'seaborn'"
     ]
    }
   ],
   "source": [
    "# Data libraries\n",
    "import pandas as pd\n",
    "\n",
    "# Plotting libraries\n",
    "import matplotlib.pyplot as plt\n",
    "import seaborn as sns"
   ]
  },
  {
   "cell_type": "markdown",
   "id": "f3be222d-6a21-465b-a7eb-4bb4dafc591a",
   "metadata": {},
   "source": [
    "### Data\n",
    "\n",
    "The data we're using originally come from the **unvotes** R package and have been exported to csv files in `data/`.\n",
    "In the chunk below we modify the data by joining the various data frames provided to help you get started with the analysis."
   ]
  },
  {
   "cell_type": "code",
   "execution_count": null,
   "id": "7fd9ac38-20e1-41b8-b632-c58ada6e23ec",
   "metadata": {},
   "outputs": [],
   "source": [
    "un_votes = pd.read_csv(\"data/un_votes.csv\")\n",
    "un_roll_calls = pd.read_csv(\"data/un_roll_calls.csv\")\n",
    "un_roll_call_issues = pd.read_csv(\"data/un_roll_call_issues.csv\")"
   ]
  },
  {
   "cell_type": "code",
   "execution_count": null,
   "id": "dbb1ebed-f4f7-4022-abd9-18d667cc3eb3",
   "metadata": {},
   "outputs": [],
   "source": [
    "un_votes.loc[un_votes[\"country\"] == \"United Kingdom\", \"country\"] = \"UK\"\n",
    "un_votes.loc[un_votes[\"country\"] == \"United States\", \"country\"] = \"US\"\n",
    "\n",
    "unvotes = un_votes.merge(\n",
    "    un_roll_calls, how = \"inner\", on = \"rcid\"\n",
    ").merge(\n",
    "    un_roll_call_issues, how = \"inner\", on = \"rcid\"\n",
    ")"
   ]
  },
  {
   "cell_type": "code",
   "execution_count": null,
   "id": "cacb84e9-4ade-4e43-8dcf-0e30fcf1c0f0",
   "metadata": {},
   "outputs": [],
   "source": [
    "unvotes"
   ]
  },
  {
   "cell_type": "markdown",
   "id": "7257b458-0604-4f20-bcc6-a477f04d026e",
   "metadata": {
    "tags": []
   },
   "source": [
    "## UN voting patterns\n",
    "\n",
    "Let's create a data visualisation that displays how the voting record of the *UK & NI* changed over time on a variety of issues, and compares it to two other countries: *US* and *Turkey*.\n",
    "\n",
    "We can easily change which countries are being plotted by changing which countries the code above `filter`s for.\n",
    "Note that the country name should be spelled and capitalized exactly the same way as it appears in the data.\n",
    "See the [Appendix](#appendix) for a list of the countries in the data."
   ]
  },
  {
   "cell_type": "code",
   "execution_count": null,
   "id": "51e5fb9e-7466-4fe7-adf6-22ab0c3dbab7",
   "metadata": {},
   "outputs": [],
   "source": [
    "countries = [\"UK\", \"US\", \"Turkey\"]\n",
    "\n",
    "votes = unvotes.query(\n",
    "  \"country == @countries\"   \n",
    ").assign(\n",
    "  year = lambda df: pd.DatetimeIndex(df['date']).year,\n",
    "  vote = lambda df: (df['vote'] == 'yes').astype(int)\n",
    ").groupby(\n",
    "  [\"country\", \"year\", \"issue\"],\n",
    "  as_index = False\n",
    ").agg(\n",
    "  {'vote': 'mean'}   \n",
    ")"
   ]
  },
  {
   "cell_type": "code",
   "execution_count": null,
   "id": "a8ff2054-e5a0-40ce-a8c7-74a19bc5d1e8",
   "metadata": {},
   "outputs": [],
   "source": [
    "g = sns.FacetGrid(\n",
    "    votes, col=\"issue\", hue=\"country\", col_wrap = 3, height=4, aspect=1.2\n",
    ").map(\n",
    "    sns.regplot, \"year\", \"vote\", lowess=True\n",
    ").add_legend().tight_layout()"
   ]
  },
  {
   "cell_type": "markdown",
   "id": "a5628f87-5022-4183-bbe0-b4b64b4c2da5",
   "metadata": {
    "tags": []
   },
   "source": [
    "## References\n",
    "\n",
    "1.  David Robinson (2017). [unvotes](https://CRAN.R-project.org/package=unvotes): United Nations General Assembly Voting Data. R package version 0.2.0.\n",
    "2.  Erik Voeten \"Data and Analyses of Voting in the UN General Assembly\" Routledge Handbook of International Organization, edited by Bob Reinalda (published May 27, 2013).\n",
    "3.  Much of the analysis has been modeled on the examples presented in the [unvotes package vignette](https://cran.r-project.org/web/packages/unvotes/vignettes/unvotes.html).\n"
   ]
  }
 ],
 "metadata": {
  "kernelspec": {
   "display_name": "Python 3 (ipykernel)",
   "language": "python",
   "name": "python3"
  },
  "language_info": {
   "codemirror_mode": {
    "name": "ipython",
    "version": 3
   },
   "file_extension": ".py",
   "mimetype": "text/x-python",
   "name": "python",
   "nbconvert_exporter": "python",
   "pygments_lexer": "ipython3",
   "version": "3.12.4"
  }
 },
 "nbformat": 4,
 "nbformat_minor": 5
}
